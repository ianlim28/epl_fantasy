{
 "cells": [
  {
   "cell_type": "code",
   "execution_count": 1,
   "metadata": {},
   "outputs": [],
   "source": [
    "import os\n",
    "from selenium import webdriver\n",
    "from selenium.webdriver.chrome.options import Options\n",
    "opts = Options() #any point in this? coz its meant to be inserted into webdriver.chrome\n",
    "#pointing to the folder where i store chromedriver\n",
    "browser = webdriver.Chrome('/Users/Ian/Desktop/FunProject/epl_fantasy/chromedriver')\n",
    "\n",
    "# formula 1 experiment \n",
    "import requests\n",
    "import lxml.html as lh\n",
    "import pandas as pd\n",
    "from bs4 import BeautifulSoup\n",
    "from time import sleep \n",
    "import re \n",
    "import random\n",
    "import time \n",
    "browser.get('https://fantasy.premierleague.com/transfers')\n",
    "\n",
    "page = requests.get(browser.current_url).text"
   ]
  },
  {
   "cell_type": "code",
   "execution_count": 2,
   "metadata": {},
   "outputs": [],
   "source": [
    "username = 'ianlim28@hotmail.com'\n",
    "password = 'Kb?8YA.q5J$DJ*c'\n",
    "usr_name = browser.find_element_by_id('loginUsername')\n",
    "usr_name.clear()\n",
    "usr_name.send_keys(username)\n",
    "\n",
    "pss = browser.find_element_by_id('loginPassword')\n",
    "pss.clear()\n",
    "pss.send_keys(password)\n",
    "browser.find_element_by_xpath('//*[@id=\"root\"]/div[2]/div/div/div[1]/form/div[3]/button').click()\n",
    "browser.implicitly_wait(3)"
   ]
  },
  {
   "cell_type": "code",
   "execution_count": 30,
   "metadata": {},
   "outputs": [],
   "source": [
    "browser.get('https://fantasy.premierleague.com/transfers')\n",
    "sleep(5)\n",
    "soup = BeautifulSoup(browser.page_source, 'html.parser')\n",
    "tr = soup.findAll('tr')"
   ]
  },
  {
   "cell_type": "code",
   "execution_count": 74,
   "metadata": {},
   "outputs": [
    {
     "data": {
      "text/plain": [
       "[['ElementTable__ElementRow-sc-1v08od9-3',\n",
       "  'ElementListRow__StyledElementListRow-sc-122fdeq-0',\n",
       "  'bXpRqg'],\n",
       " ['ElementTable__ElementRow-sc-1v08od9-3',\n",
       "  'ElementListRow__StyledElementListRow-sc-122fdeq-0',\n",
       "  'bXpRqg'],\n",
       " ['ElementTable__ElementRow-sc-1v08od9-3',\n",
       "  'ElementListRow__StyledElementListRow-sc-122fdeq-0',\n",
       "  'cWEIgq'],\n",
       " ['ElementTable__ElementRow-sc-1v08od9-3',\n",
       "  'ElementListRow__StyledElementListRow-sc-122fdeq-0',\n",
       "  'bXpRqg'],\n",
       " ['ElementTable__ElementRow-sc-1v08od9-3',\n",
       "  'ElementListRow__StyledElementListRow-sc-122fdeq-0',\n",
       "  'bXpRqg'],\n",
       " ['ElementTable__ElementRow-sc-1v08od9-3',\n",
       "  'ElementListRow__StyledElementListRow-sc-122fdeq-0',\n",
       "  'bXpRqg'],\n",
       " ['ElementTable__ElementRow-sc-1v08od9-3',\n",
       "  'ElementListRow__StyledElementListRow-sc-122fdeq-0',\n",
       "  'bXpRqg'],\n",
       " ['ElementTable__ElementRow-sc-1v08od9-3',\n",
       "  'ElementListRow__StyledElementListRow-sc-122fdeq-0',\n",
       "  'bXpRqg'],\n",
       " ['ElementTable__ElementRow-sc-1v08od9-3',\n",
       "  'ElementListRow__StyledElementListRow-sc-122fdeq-0',\n",
       "  'bXpRqg'],\n",
       " ['ElementTable__ElementRow-sc-1v08od9-3',\n",
       "  'ElementListRow__StyledElementListRow-sc-122fdeq-0',\n",
       "  'bXpRqg'],\n",
       " ['ElementTable__ElementRow-sc-1v08od9-3',\n",
       "  'ElementListRow__StyledElementListRow-sc-122fdeq-0',\n",
       "  'bXpRqg'],\n",
       " ['ElementTable__ElementRow-sc-1v08od9-3',\n",
       "  'ElementListRow__StyledElementListRow-sc-122fdeq-0',\n",
       "  'cWEIgq'],\n",
       " ['ElementTable__ElementRow-sc-1v08od9-3',\n",
       "  'ElementListRow__StyledElementListRow-sc-122fdeq-0',\n",
       "  'bXpRqg'],\n",
       " ['ElementTable__ElementRow-sc-1v08od9-3',\n",
       "  'ElementListRow__StyledElementListRow-sc-122fdeq-0',\n",
       "  'bXpRqg'],\n",
       " ['ElementTable__ElementRow-sc-1v08od9-3',\n",
       "  'ElementListRow__StyledElementListRow-sc-122fdeq-0',\n",
       "  'bXpRqg'],\n",
       " ['ElementTable__ElementRow-sc-1v08od9-3',\n",
       "  'ElementListRow__StyledElementListRow-sc-122fdeq-0',\n",
       "  'bXpRqg'],\n",
       " ['ElementTable__ElementRow-sc-1v08od9-3',\n",
       "  'ElementListRow__StyledElementListRow-sc-122fdeq-0',\n",
       "  'bXpRqg'],\n",
       " ['ElementTable__ElementRow-sc-1v08od9-3',\n",
       "  'ElementListRow__StyledElementListRow-sc-122fdeq-0',\n",
       "  'bXpRqg'],\n",
       " ['ElementTable__ElementRow-sc-1v08od9-3',\n",
       "  'ElementListRow__StyledElementListRow-sc-122fdeq-0',\n",
       "  'bXpRqg'],\n",
       " ['ElementTable__ElementRow-sc-1v08od9-3',\n",
       "  'ElementListRow__StyledElementListRow-sc-122fdeq-0',\n",
       "  'bXpRqg'],\n",
       " ['ElementTable__ElementRow-sc-1v08od9-3',\n",
       "  'ElementListRow__StyledElementListRow-sc-122fdeq-0',\n",
       "  'bXpRqg'],\n",
       " ['ElementTable__ElementRow-sc-1v08od9-3',\n",
       "  'ElementListRow__StyledElementListRow-sc-122fdeq-0',\n",
       "  'bXpRqg'],\n",
       " ['ElementTable__ElementRow-sc-1v08od9-3',\n",
       "  'ElementListRow__StyledElementListRow-sc-122fdeq-0',\n",
       "  'bXpRqg'],\n",
       " ['ElementTable__ElementRow-sc-1v08od9-3',\n",
       "  'ElementListRow__StyledElementListRow-sc-122fdeq-0',\n",
       "  'bXpRqg'],\n",
       " ['ElementTable__ElementRow-sc-1v08od9-3',\n",
       "  'ElementListRow__StyledElementListRow-sc-122fdeq-0',\n",
       "  'bXpRqg'],\n",
       " ['ElementTable__ElementRow-sc-1v08od9-3',\n",
       "  'ElementListRow__StyledElementListRow-sc-122fdeq-0',\n",
       "  'bXpRqg'],\n",
       " ['ElementTable__ElementRow-sc-1v08od9-3',\n",
       "  'ElementListRow__StyledElementListRow-sc-122fdeq-0',\n",
       "  'cWEIgq'],\n",
       " ['ElementTable__ElementRow-sc-1v08od9-3',\n",
       "  'ElementListRow__StyledElementListRow-sc-122fdeq-0',\n",
       "  'bXpRqg'],\n",
       " ['ElementTable__ElementRow-sc-1v08od9-3',\n",
       "  'ElementListRow__StyledElementListRow-sc-122fdeq-0',\n",
       "  'cWEIgq'],\n",
       " ['ElementTable__ElementRow-sc-1v08od9-3',\n",
       "  'ElementListRow__StyledElementListRow-sc-122fdeq-0',\n",
       "  'bXpRqg']]"
      ]
     },
     "execution_count": 74,
     "metadata": {},
     "output_type": "execute_result"
    }
   ],
   "source": [
    "cls = []\n",
    "for row in tr:\n",
    "    if row.attrs.get('class') is not None:\n",
    "        cls.append(row.attrs.get('class'))\n",
    "cls\n",
    "#'ElementTable__ElementRow-sc-1v08od9-3 ElementListRow__StyledElementListRow-sc-122fdeq-0 bXpRqg'"
   ]
  },
  {
   "cell_type": "code",
   "execution_count": 70,
   "metadata": {},
   "outputs": [
    {
     "name": "stdout",
     "output_type": "stream",
     "text": [
      "bXpRqg\n",
      "ICT Index151 of 513\n",
      "bXpRqg\n",
      "ICT Index151 of 513\n",
      "cWEIgq\n"
     ]
    },
    {
     "ename": "NoSuchElementException",
     "evalue": "Message: no such element: Unable to locate element: {\"method\":\"css selector\",\"selector\":\".cWEIgq\"}\n  (Session info: chrome=85.0.4183.83)\n",
     "output_type": "error",
     "traceback": [
      "\u001b[1;31m---------------------------------------------------------------------------\u001b[0m",
      "\u001b[1;31mNoSuchElementException\u001b[0m                    Traceback (most recent call last)",
      "\u001b[1;32m<ipython-input-70-332d48c3c5da>\u001b[0m in \u001b[0;36m<module>\u001b[1;34m\u001b[0m\n\u001b[0;32m      3\u001b[0m     \u001b[0mprint\u001b[0m\u001b[1;33m(\u001b[0m\u001b[0mele\u001b[0m\u001b[1;33m[\u001b[0m\u001b[1;36m2\u001b[0m\u001b[1;33m]\u001b[0m\u001b[1;33m)\u001b[0m\u001b[1;33m\u001b[0m\u001b[1;33m\u001b[0m\u001b[0m\n\u001b[0;32m      4\u001b[0m     \u001b[0msleep\u001b[0m\u001b[1;33m(\u001b[0m\u001b[1;36m2\u001b[0m\u001b[1;33m)\u001b[0m\u001b[1;33m\u001b[0m\u001b[1;33m\u001b[0m\u001b[0m\n\u001b[1;32m----> 5\u001b[1;33m     \u001b[0mbrowser\u001b[0m\u001b[1;33m.\u001b[0m\u001b[0mfind_element_by_class_name\u001b[0m\u001b[1;33m(\u001b[0m\u001b[0mele\u001b[0m\u001b[1;33m[\u001b[0m\u001b[1;36m2\u001b[0m\u001b[1;33m]\u001b[0m\u001b[1;33m)\u001b[0m\u001b[1;33m.\u001b[0m\u001b[0mclick\u001b[0m\u001b[1;33m(\u001b[0m\u001b[1;33m)\u001b[0m\u001b[1;33m\u001b[0m\u001b[1;33m\u001b[0m\u001b[0m\n\u001b[0m\u001b[0;32m      6\u001b[0m     \u001b[0msleep\u001b[0m\u001b[1;33m(\u001b[0m\u001b[1;36m1\u001b[0m\u001b[1;33m)\u001b[0m\u001b[1;33m\u001b[0m\u001b[1;33m\u001b[0m\u001b[0m\n\u001b[0;32m      7\u001b[0m     \u001b[0mbrowser\u001b[0m\u001b[1;33m.\u001b[0m\u001b[0mfind_element_by_xpath\u001b[0m\u001b[1;33m(\u001b[0m\u001b[1;34m'//*[@id=\"root-dialog\"]/div/dialog/div/div[2]/ul/li[2]/button'\u001b[0m\u001b[1;33m)\u001b[0m\u001b[1;33m.\u001b[0m\u001b[0mclick\u001b[0m\u001b[1;33m(\u001b[0m\u001b[1;33m)\u001b[0m\u001b[1;33m\u001b[0m\u001b[1;33m\u001b[0m\u001b[0m\n",
      "\u001b[1;32m~\\anaconda3\\lib\\site-packages\\selenium\\webdriver\\remote\\webdriver.py\u001b[0m in \u001b[0;36mfind_element_by_class_name\u001b[1;34m(self, name)\u001b[0m\n\u001b[0;32m    562\u001b[0m             \u001b[0melement\u001b[0m \u001b[1;33m=\u001b[0m \u001b[0mdriver\u001b[0m\u001b[1;33m.\u001b[0m\u001b[0mfind_element_by_class_name\u001b[0m\u001b[1;33m(\u001b[0m\u001b[1;34m'foo'\u001b[0m\u001b[1;33m)\u001b[0m\u001b[1;33m\u001b[0m\u001b[1;33m\u001b[0m\u001b[0m\n\u001b[0;32m    563\u001b[0m         \"\"\"\n\u001b[1;32m--> 564\u001b[1;33m         \u001b[1;32mreturn\u001b[0m \u001b[0mself\u001b[0m\u001b[1;33m.\u001b[0m\u001b[0mfind_element\u001b[0m\u001b[1;33m(\u001b[0m\u001b[0mby\u001b[0m\u001b[1;33m=\u001b[0m\u001b[0mBy\u001b[0m\u001b[1;33m.\u001b[0m\u001b[0mCLASS_NAME\u001b[0m\u001b[1;33m,\u001b[0m \u001b[0mvalue\u001b[0m\u001b[1;33m=\u001b[0m\u001b[0mname\u001b[0m\u001b[1;33m)\u001b[0m\u001b[1;33m\u001b[0m\u001b[1;33m\u001b[0m\u001b[0m\n\u001b[0m\u001b[0;32m    565\u001b[0m \u001b[1;33m\u001b[0m\u001b[0m\n\u001b[0;32m    566\u001b[0m     \u001b[1;32mdef\u001b[0m \u001b[0mfind_elements_by_class_name\u001b[0m\u001b[1;33m(\u001b[0m\u001b[0mself\u001b[0m\u001b[1;33m,\u001b[0m \u001b[0mname\u001b[0m\u001b[1;33m)\u001b[0m\u001b[1;33m:\u001b[0m\u001b[1;33m\u001b[0m\u001b[1;33m\u001b[0m\u001b[0m\n",
      "\u001b[1;32m~\\anaconda3\\lib\\site-packages\\selenium\\webdriver\\remote\\webdriver.py\u001b[0m in \u001b[0;36mfind_element\u001b[1;34m(self, by, value)\u001b[0m\n\u001b[0;32m    976\u001b[0m         return self.execute(Command.FIND_ELEMENT, {\n\u001b[0;32m    977\u001b[0m             \u001b[1;34m'using'\u001b[0m\u001b[1;33m:\u001b[0m \u001b[0mby\u001b[0m\u001b[1;33m,\u001b[0m\u001b[1;33m\u001b[0m\u001b[1;33m\u001b[0m\u001b[0m\n\u001b[1;32m--> 978\u001b[1;33m             'value': value})['value']\n\u001b[0m\u001b[0;32m    979\u001b[0m \u001b[1;33m\u001b[0m\u001b[0m\n\u001b[0;32m    980\u001b[0m     \u001b[1;32mdef\u001b[0m \u001b[0mfind_elements\u001b[0m\u001b[1;33m(\u001b[0m\u001b[0mself\u001b[0m\u001b[1;33m,\u001b[0m \u001b[0mby\u001b[0m\u001b[1;33m=\u001b[0m\u001b[0mBy\u001b[0m\u001b[1;33m.\u001b[0m\u001b[0mID\u001b[0m\u001b[1;33m,\u001b[0m \u001b[0mvalue\u001b[0m\u001b[1;33m=\u001b[0m\u001b[1;32mNone\u001b[0m\u001b[1;33m)\u001b[0m\u001b[1;33m:\u001b[0m\u001b[1;33m\u001b[0m\u001b[1;33m\u001b[0m\u001b[0m\n",
      "\u001b[1;32m~\\anaconda3\\lib\\site-packages\\selenium\\webdriver\\remote\\webdriver.py\u001b[0m in \u001b[0;36mexecute\u001b[1;34m(self, driver_command, params)\u001b[0m\n\u001b[0;32m    319\u001b[0m         \u001b[0mresponse\u001b[0m \u001b[1;33m=\u001b[0m \u001b[0mself\u001b[0m\u001b[1;33m.\u001b[0m\u001b[0mcommand_executor\u001b[0m\u001b[1;33m.\u001b[0m\u001b[0mexecute\u001b[0m\u001b[1;33m(\u001b[0m\u001b[0mdriver_command\u001b[0m\u001b[1;33m,\u001b[0m \u001b[0mparams\u001b[0m\u001b[1;33m)\u001b[0m\u001b[1;33m\u001b[0m\u001b[1;33m\u001b[0m\u001b[0m\n\u001b[0;32m    320\u001b[0m         \u001b[1;32mif\u001b[0m \u001b[0mresponse\u001b[0m\u001b[1;33m:\u001b[0m\u001b[1;33m\u001b[0m\u001b[1;33m\u001b[0m\u001b[0m\n\u001b[1;32m--> 321\u001b[1;33m             \u001b[0mself\u001b[0m\u001b[1;33m.\u001b[0m\u001b[0merror_handler\u001b[0m\u001b[1;33m.\u001b[0m\u001b[0mcheck_response\u001b[0m\u001b[1;33m(\u001b[0m\u001b[0mresponse\u001b[0m\u001b[1;33m)\u001b[0m\u001b[1;33m\u001b[0m\u001b[1;33m\u001b[0m\u001b[0m\n\u001b[0m\u001b[0;32m    322\u001b[0m             response['value'] = self._unwrap_value(\n\u001b[0;32m    323\u001b[0m                 response.get('value', None))\n",
      "\u001b[1;32m~\\anaconda3\\lib\\site-packages\\selenium\\webdriver\\remote\\errorhandler.py\u001b[0m in \u001b[0;36mcheck_response\u001b[1;34m(self, response)\u001b[0m\n\u001b[0;32m    240\u001b[0m                 \u001b[0malert_text\u001b[0m \u001b[1;33m=\u001b[0m \u001b[0mvalue\u001b[0m\u001b[1;33m[\u001b[0m\u001b[1;34m'alert'\u001b[0m\u001b[1;33m]\u001b[0m\u001b[1;33m.\u001b[0m\u001b[0mget\u001b[0m\u001b[1;33m(\u001b[0m\u001b[1;34m'text'\u001b[0m\u001b[1;33m)\u001b[0m\u001b[1;33m\u001b[0m\u001b[1;33m\u001b[0m\u001b[0m\n\u001b[0;32m    241\u001b[0m             \u001b[1;32mraise\u001b[0m \u001b[0mexception_class\u001b[0m\u001b[1;33m(\u001b[0m\u001b[0mmessage\u001b[0m\u001b[1;33m,\u001b[0m \u001b[0mscreen\u001b[0m\u001b[1;33m,\u001b[0m \u001b[0mstacktrace\u001b[0m\u001b[1;33m,\u001b[0m \u001b[0malert_text\u001b[0m\u001b[1;33m)\u001b[0m\u001b[1;33m\u001b[0m\u001b[1;33m\u001b[0m\u001b[0m\n\u001b[1;32m--> 242\u001b[1;33m         \u001b[1;32mraise\u001b[0m \u001b[0mexception_class\u001b[0m\u001b[1;33m(\u001b[0m\u001b[0mmessage\u001b[0m\u001b[1;33m,\u001b[0m \u001b[0mscreen\u001b[0m\u001b[1;33m,\u001b[0m \u001b[0mstacktrace\u001b[0m\u001b[1;33m)\u001b[0m\u001b[1;33m\u001b[0m\u001b[1;33m\u001b[0m\u001b[0m\n\u001b[0m\u001b[0;32m    243\u001b[0m \u001b[1;33m\u001b[0m\u001b[0m\n\u001b[0;32m    244\u001b[0m     \u001b[1;32mdef\u001b[0m \u001b[0m_value_or_default\u001b[0m\u001b[1;33m(\u001b[0m\u001b[0mself\u001b[0m\u001b[1;33m,\u001b[0m \u001b[0mobj\u001b[0m\u001b[1;33m,\u001b[0m \u001b[0mkey\u001b[0m\u001b[1;33m,\u001b[0m \u001b[0mdefault\u001b[0m\u001b[1;33m)\u001b[0m\u001b[1;33m:\u001b[0m\u001b[1;33m\u001b[0m\u001b[1;33m\u001b[0m\u001b[0m\n",
      "\u001b[1;31mNoSuchElementException\u001b[0m: Message: no such element: Unable to locate element: {\"method\":\"css selector\",\"selector\":\".cWEIgq\"}\n  (Session info: chrome=85.0.4183.83)\n"
     ]
    }
   ],
   "source": [
    "test = []\n",
    "for ele in cls:\n",
    "    print(ele[2])\n",
    "    sleep(2)\n",
    "    browser.find_element_by_class_name(ele[2]).click()\n",
    "    sleep(1)\n",
    "    browser.find_element_by_xpath('//*[@id=\"root-dialog\"]/div/dialog/div/div[2]/ul/li[2]/button').click()\n",
    "    sleep(1)\n",
    "    soup = BeautifulSoup(browser.page_source, 'html.parser')\n",
    "    rows = soup.find_all('div', {'class': re.compile('ElementDialog__ICTItem.*')})\n",
    "    print(rows[4].get_text())\n",
    "    browser.find_element_by_class_name('rPLLF').click()\n",
    "    sleep(2)\n",
    "    #sc-AykKC fObvLq Button__StyledButton-sc-1no4qep-0 exdJJg"
   ]
  },
  {
   "cell_type": "code",
   "execution_count": 68,
   "metadata": {},
   "outputs": [
    {
     "data": {
      "text/plain": [
       "[<div class=\"ElementDialog__ICTItem-gmefnd-13 ceVMCC\"><span class=\"Tooltip__TooltipLabel-xwbyyj-1 frTuPo\"><h3 class=\"ElementDialog__ICTSubHeading-gmefnd-14 gWozZm\">Influence</h3></span><div><strong>4</strong> of 51</div></div>,\n",
       " <div class=\"ElementDialog__ICTItem-gmefnd-13 ceVMCC\"><span class=\"Tooltip__TooltipLabel-xwbyyj-1 frTuPo\"><h3 class=\"ElementDialog__ICTSubHeading-gmefnd-14 gWozZm\">Creativity</h3></span><div><strong>1</strong> of 51</div></div>,\n",
       " <div class=\"ElementDialog__ICTItem-gmefnd-13 ceVMCC\"><span class=\"Tooltip__TooltipLabel-xwbyyj-1 frTuPo\"><h3 class=\"ElementDialog__ICTSubHeading-gmefnd-14 gWozZm\">Threat</h3></span><div><strong>3</strong> of 51</div></div>,\n",
       " <div class=\"ElementDialog__ICTItem-gmefnd-13 ceVMCC\"><span class=\"Tooltip__TooltipLabel-xwbyyj-1 frTuPo\"><h3 class=\"ElementDialog__ICTSubHeading-gmefnd-14 gWozZm\">ICT Index</h3></span><div><strong>4</strong> of 51</div></div>,\n",
       " <div class=\"ElementDialog__ICTItem-gmefnd-13 ceVMCC\"><span class=\"Tooltip__TooltipLabel-xwbyyj-1 frTuPo\"><h3 class=\"ElementDialog__ICTSubHeading-gmefnd-14 gWozZm\">ICT Index</h3></span><div><strong>151</strong> of 513</div></div>]"
      ]
     },
     "execution_count": 68,
     "metadata": {},
     "output_type": "execute_result"
    }
   ],
   "source": [
    "test[0]"
   ]
  },
  {
   "cell_type": "code",
   "execution_count": 20,
   "metadata": {},
   "outputs": [],
   "source": [
    "#click on idv row, each row has diff class\n",
    "browser.find_element_by_class_name('bXpRqg').click()\n",
    "# exdJJg"
   ]
  },
  {
   "cell_type": "code",
   "execution_count": 21,
   "metadata": {},
   "outputs": [],
   "source": [
    "browser.find_element_by_class_name('exdJJg').click()"
   ]
  },
  {
   "cell_type": "code",
   "execution_count": 29,
   "metadata": {},
   "outputs": [
    {
     "data": {
      "text/plain": [
       "'ICT Index12 of 513'"
      ]
     },
     "execution_count": 29,
     "metadata": {},
     "output_type": "execute_result"
    }
   ],
   "source": [
    "soup = BeautifulSoup(browser.page_source, 'html.parser')\n",
    "rows = soup.find_all('div', {'class': re.compile('ElementDialog__ICTItem.*')})\n",
    "rows[4].get_text()"
   ]
  }
 ],
 "metadata": {
  "kernelspec": {
   "display_name": "Python 3",
   "language": "python",
   "name": "python3"
  },
  "language_info": {
   "codemirror_mode": {
    "name": "ipython",
    "version": 3
   },
   "file_extension": ".py",
   "mimetype": "text/x-python",
   "name": "python",
   "nbconvert_exporter": "python",
   "pygments_lexer": "ipython3",
   "version": "3.7.6"
  }
 },
 "nbformat": 4,
 "nbformat_minor": 4
}
